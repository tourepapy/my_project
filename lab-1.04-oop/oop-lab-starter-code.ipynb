{
 "cells": [
  {
   "cell_type": "markdown",
   "metadata": {},
   "source": [
    "<img src=\"http://imgur.com/1ZcRyrc.png\" style=\"float: left; margin: 20px; height: 55px\">\n",
    "\n",
    "# OOP Practice Problem\n",
    "_Author:_ Tim Book (however, this is a very common example for OOP problems.)"
   ]
  },
  {
   "cell_type": "markdown",
   "metadata": {},
   "source": [
    "## Your task is to build a `BankAccount` class for a bank.\n",
    "The class should meet all the following specifications. Different students may interpret each of these specifications differently. Use your best judgment to determine what you think would be most useful to potential banking software! I have graded the specifications from easy to hard. But none of them are extremely difficult. Try to make it to the end!\n",
    "\n",
    "**Mild: Easy ones to start:**\n",
    "* Each account should have a `name` (e.g. `\"Tim's Checking\"`)\n",
    "* Each account should have an `interest_rate` (e.g. `0.03`)\n",
    "* Each account should have a starting `balance` of 0\n",
    "* The class should have `.withdraw()` and `.deposit()` methods.\n",
    "* Add a `.view_balance()` method that prints the balance in a user-friendly way. Maybe:\n",
    "    - `Tim's Checking has $300 remaining.`\n",
    "\n",
    "**Medium: Kinda hard:**\n",
    "* The class should have an `.accrue_interest()` method that increases the `balance` with respect to its interest rate.\n",
    "* Add checks to make sure the user can't withdraw to below \\$0.\n",
    "* If the user accidentally attempts to overdraw, incur a \\$35 fee to their account (this may cause the balance to go negative, which is allowed in this one case).\n",
    "* If the user's balance is negative, don't allow them to accrue interest!\n",
    "    \n",
    "**Spicy Mode:**\n",
    "* If fraud is detected, the bank wants the ability to freeze the account. Add `.freeze()` and `.unfreeze()` methods. While an account is frozen, do not allow depositing or withdrawing.\n",
    "* The user can only make 10 withdrawals a year. Create an instance variable that keeps track of these withdrawals, and throws an error if a user tries to make an 11th withdrawal.\n",
    "* Create a `.year_end()` method which implies the banking year has ended. What _two_ things above happen at the end of a year?\n",
    "\n",
    "**Nuclear: The things that you'll need to look up online in order to learn to do:**\n",
    "* Create a **class variable** (different from an instance variable!) that keeps track of the total number of bank accounts created.\n",
    "* Some of the methods we've created should not be allowed to be called by the user (e.g., the user shouldn't be allowed to `.accrue_interest()` whenever they want!). Turn these methods into _private methods_.\n",
    "    - Note: Python can't actually make private methods, but it can do something close."
   ]
  },
  {
   "cell_type": "code",
   "execution_count": 12,
   "metadata": {},
   "outputs": [
    {
     "name": "stdout",
     "output_type": "stream",
     "text": [
      "Total accounts created: 2\n",
      "Tim's Checking has $0 remaining.\n"
     ]
    }
   ],
   "source": [
    "class BankAccount:\n",
    "    total_accounts = 0  # Class variable to track total number of bank accounts\n",
    "\n",
    "    def __init__(self, name, interest_rate):\n",
    "        self.name = name\n",
    "        self.interest_rate = interest_rate\n",
    "        self.balance = 0\n",
    "        self.overdraft_fee = 35\n",
    "        self.is_frozen = False\n",
    "        self.withdrawals_this_year = 0\n",
    "        BankAccount.total_accounts += 1\n",
    "\n",
    "    def deposit(self, amount):\n",
    "        if self.is_frozen:\n",
    "            print(\"Account is frozen. Cannot deposit.\")\n",
    "            return\n",
    "\n",
    "        if amount > 0:\n",
    "            self.balance += amount\n",
    "        else:\n",
    "            print(\"Invalid deposit amount.\")\n",
    "\n",
    "    def withdraw(self, amount):\n",
    "        if self.is_frozen:\n",
    "            print(\"Account is frozen. Cannot withdraw.\")\n",
    "            return\n",
    "\n",
    "        if self.withdrawals_this_year >= 10:\n",
    "            print(\"Withdrawal limit reached for the year.\")\n",
    "            return\n",
    "\n",
    "        if amount > self.balance:\n",
    "            print(\"Insufficient funds. Overdraft fee incurred.\")\n",
    "            self.balance -= amount\n",
    "            self.balance -= self.overdraft_fee  # Overdraft fee is applied after the withdrawal\n",
    "            self.withdrawals_this_year += 1\n",
    "        else:\n",
    "            self.balance -= amount\n",
    "            self.withdrawals_this_year += 1\n",
    "\n",
    "    def view_balance(self):\n",
    "        print(f\"{self.name} has ${self.balance} remaining.\")\n",
    "\n",
    "    def freeze(self):\n",
    "        self.is_frozen = True\n",
    "\n",
    "    def unfreeze(self):\n",
    "        self.is_frozen = False\n",
    "\n",
    "    def year_end(self):\n",
    "        self._reset_withdrawals()\n",
    "        self._accrue_interest()\n",
    "\n",
    "    # Private method for resetting withdrawals\n",
    "    def _reset_withdrawals(self):\n",
    "        self.withdrawals_this_year = 0\n",
    "\n",
    "    # Private method for accruing interest\n",
    "    def _accrue_interest(self):\n",
    "        if self.balance > 0 and not self.is_frozen:\n",
    "            self.balance += self.balance * self.interest_rate\n",
    "\n",
    "    @classmethod\n",
    "    def get_total_accounts(cls):\n",
    "        return cls.total_accounts\n",
    "\n",
    "account1 = BankAccount(\"Tim's Checking\", 0.03)\n",
    "account2 = BankAccount(\"Sara's Savings\", 0.04)\n",
    "print(f\"Total accounts created: {BankAccount.get_total_accounts()}\")  # Should print 2\n",
    "account1.year_end()\n",
    "account1.view_balance()  # Should show balance after interest is accrued\n",
    "# account1._accrue_interest()  # Should not be allowed\n"
   ]
  },
  {
   "cell_type": "code",
   "execution_count": null,
   "metadata": {},
   "outputs": [],
   "source": []
  }
 ],
 "metadata": {
  "kernelspec": {
   "display_name": "Python 3 (ipykernel)",
   "language": "python",
   "name": "python3"
  },
  "language_info": {
   "codemirror_mode": {
    "name": "ipython",
    "version": 3
   },
   "file_extension": ".py",
   "mimetype": "text/x-python",
   "name": "python",
   "nbconvert_exporter": "python",
   "pygments_lexer": "ipython3",
   "version": "3.11.5"
  }
 },
 "nbformat": 4,
 "nbformat_minor": 2
}
