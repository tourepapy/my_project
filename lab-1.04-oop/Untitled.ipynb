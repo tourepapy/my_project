{
 "cells": [
  {
   "cell_type": "code",
   "execution_count": 1,
   "id": "765265ae",
   "metadata": {},
   "outputs": [],
   "source": [
    "import re\n",
    "import sys"
   ]
  },
  {
   "cell_type": "code",
   "execution_count": 2,
   "id": "730e3b25",
   "metadata": {},
   "outputs": [],
   "source": [
    "def miniMaxSum(arr):\n",
    "    total_sum = sum(arr)\n",
    "    min_sum = total_sum - max(arr)\n",
    "    max_sum = total_sum - min(arr)\n",
    "    print(min_sum, max_sum)"
   ]
  },
  {
   "cell_type": "code",
   "execution_count": 3,
   "id": "43af7d0c",
   "metadata": {},
   "outputs": [
    {
     "name": "stdout",
     "output_type": "stream",
     "text": [
      "16 24\n"
     ]
    }
   ],
   "source": [
    "arr = [1, 3, 5, 7, 9]\n",
    "\n",
    "miniMaxSum(arr)"
   ]
  },
  {
   "cell_type": "code",
   "execution_count": 45,
   "id": "f60bfc2b",
   "metadata": {},
   "outputs": [],
   "source": [
    "def plusMinus(arr):\n",
    "    n = len(arr)\n",
    "    if n == 0:\n",
    "        return 0, 0, 0\n",
    "    \n",
    "    n1 = n2 = n3 = 0\n",
    "    for i in arr:\n",
    "        if i > 0:\n",
    "            n1 += 1\n",
    "        elif i < 0:\n",
    "            n2 += 1\n",
    "        else:\n",
    "            n3 += 1\n",
    "    return round(n1/n, 6), round(n2/n, 3), round(n3/n, 6) "
   ]
  },
  {
   "cell_type": "code",
   "execution_count": 46,
   "id": "cf36280f",
   "metadata": {},
   "outputs": [
    {
     "name": "stdout",
     "output_type": "stream",
     "text": [
      "(0.4, 0.4, 0.2)\n"
     ]
    }
   ],
   "source": [
    "num_arr = list(arr)\n",
    "arr = [1, 1, 0, -1, -1]\n",
    "print(plusMinus(arr))"
   ]
  },
  {
   "cell_type": "code",
   "execution_count": 48,
   "id": "9283b99a",
   "metadata": {},
   "outputs": [
    {
     "name": "stdout",
     "output_type": "stream",
     "text": [
      "0.400000\n",
      "0.400000\n",
      "0.200000\n"
     ]
    }
   ],
   "source": [
    "def calculate_ratios(arr):\n",
    "    x1 = x2 = x3 = 0\n",
    "    n = len(arr)\n",
    "\n",
    "    # Count positives, negatives, and zeros\n",
    "    for i in arr:\n",
    "        if i > 0:\n",
    "            x1 += 1\n",
    "        elif i < 0:\n",
    "            x2 += 1\n",
    "        else:\n",
    "            x3 += 1\n",
    "\n",
    "    # Calculate and print the ratios\n",
    "    positive_ratio = x1 / n\n",
    "    negative_ratio = x2 / n\n",
    "    zero_ratio = x3 / n\n",
    "\n",
    "    print(\"{:.6f}\".format(positive_ratio))\n",
    "    print(\"{:.6f}\".format(negative_ratio))\n",
    "    print(\"{:.6f}\".format(zero_ratio))\n",
    "\n",
    "# Example usage\n",
    "arr = [1, 1, 0, -1, -1]\n",
    "calculate_ratios(arr)\n"
   ]
  },
  {
   "cell_type": "code",
   "execution_count": 52,
   "id": "0fadb576",
   "metadata": {},
   "outputs": [
    {
     "name": "stdout",
     "output_type": "stream",
     "text": [
      "0.400000\n",
      "0.400000\n",
      "0.200000\n",
      "None\n"
     ]
    }
   ],
   "source": [
    "def plusMinus(arr):\n",
    "    n = len(arr)\n",
    "    # Check if the array is empty to avoid division by zero\n",
    "    if n == 0:\n",
    "        return 0, 0, 0\n",
    "\n",
    "    n1 = n2 = n3 = 0\n",
    "    for i in arr:\n",
    "        if i > 0:\n",
    "            n1 += 1\n",
    "        elif i < 0:\n",
    "            n2 += 1\n",
    "        else:\n",
    "            n3 += 1\n",
    "\n",
    "    # Rounding all results to six decimal places\n",
    "    print(\"{:.6f}\".format(n1/n)) \n",
    "    print(\"{:.6f}\".format(n2/n)) \n",
    "    print(\"{:.6f}\".format(n3/n))\n",
    "\n",
    "# Example usage\n",
    "arr = [1, 1, 0, -1, -1]\n",
    "print(plusMinus(arr))\n"
   ]
  },
  {
   "cell_type": "code",
   "execution_count": 53,
   "id": "573bca8a",
   "metadata": {},
   "outputs": [],
   "source": [
    "def miniMaxSum(arr):\n",
    "    total_sum = sum(arr)\n",
    "    max_sum = total_sum - min(arr)\n",
    "    min_sum = total_sum - max(arr)\n",
    "    print(min_sum, max_sum)"
   ]
  },
  {
   "cell_type": "code",
   "execution_count": 54,
   "id": "0c9be828",
   "metadata": {},
   "outputs": [
    {
     "name": "stdout",
     "output_type": "stream",
     "text": [
      "15 20\n"
     ]
    }
   ],
   "source": [
    "arr =[1, 2, 3, 4, 5, 6]\n",
    "miniMaxSum(arr)"
   ]
  },
  {
   "cell_type": "code",
   "execution_count": null,
   "id": "99522bfd",
   "metadata": {},
   "outputs": [],
   "source": []
  }
 ],
 "metadata": {
  "kernelspec": {
   "display_name": "Python 3 (ipykernel)",
   "language": "python",
   "name": "python3"
  },
  "language_info": {
   "codemirror_mode": {
    "name": "ipython",
    "version": 3
   },
   "file_extension": ".py",
   "mimetype": "text/x-python",
   "name": "python",
   "nbconvert_exporter": "python",
   "pygments_lexer": "ipython3",
   "version": "3.11.5"
  }
 },
 "nbformat": 4,
 "nbformat_minor": 5
}
